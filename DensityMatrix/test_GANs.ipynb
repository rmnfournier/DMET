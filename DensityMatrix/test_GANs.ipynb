{
 "cells": [
  {
   "cell_type": "markdown",
   "metadata": {
    "collapsed": true,
    "pycharm": {
     "name": "#%% md\n"
    }
   },
   "source": [
    "# Test the GANs using PhysEngine"
   ]
  },
  {
   "cell_type": "code",
   "execution_count": 46,
   "outputs": [
    {
     "name": "stdout",
     "text": [
      "/home/romain/Documents/EPFL/C3MP/DRLDMET/DensityMatrix\n"
     ],
     "output_type": "stream"
    }
   ],
   "source": [
    "import os\n",
    "import sys\n",
    "dirname = os.path.dirname(os.path.realpath('__file__'))\n",
    "print(dirname)\n",
    "\n",
    "sys.path.append(dirname + \"/../PN_representability/GANs/\")\n",
    "\n",
    "from GAN_Model import Generator\n",
    "import pandas as pd\n",
    "import numpy as np\n",
    "import scipy.linalg\n",
    "import scipy.optimize\n",
    "from numpy.core.umath_tests import inner1d\n",
    "import torch\n",
    "from scipy.optimize import Bounds,SR1\n",
    "import matplotlib\n",
    "import matplotlib.pyplot as plt\n",
    "\n",
    "sys.path.append(dirname + \"/../QuantumReinforce/\")\n",
    "from GAN_Model import Generator\n",
    "from Physics_Engine import Physics_Engine as PE"
   ],
   "metadata": {
    "collapsed": false,
    "pycharm": {
     "name": "#%% \n",
     "is_executing": false
    }
   }
  },
  {
   "cell_type": "code",
   "execution_count": 47,
   "outputs": [],
   "source": [
    "\n",
    "coding_dim = 50\n",
    "nb_data = 30000\n",
    "working_dim = 2211\n",
    "device = torch.device(\"cuda:0\" if torch.cuda.is_available() else \"cpu\")\n",
    "\n",
    "# Declare the generator\n",
    "generator = Generator(coding_dim, working_dim)\n",
    "gan_weights = 'generator_weights_'+str(coding_dim)+'_'+str(nb_data)+'_episodes_50.pth'\n",
    "generator.load_state_dict(torch.load(gan_weights))\n"
   ],
   "metadata": {
    "collapsed": false,
    "pycharm": {
     "name": "#%%\n",
     "is_executing": false
    }
   }
  },
  {
   "cell_type": "markdown",
   "source": [
    "# Test the generator"
   ],
   "metadata": {
    "collapsed": false,
    "pycharm": {
     "name": "#%% md\n"
    }
   }
  },
  {
   "cell_type": "code",
   "execution_count": 32,
   "outputs": [
    {
     "name": "stdout",
     "text": [
      "tensor([ 0.3675, -0.0451,  0.2614,  ..., -0.0178, -0.0294,  0.2912], device='cuda:0')\n"
     ],
     "output_type": "stream"
    }
   ],
   "source": [
    "\n",
    "with torch.no_grad():\n",
    "    print(generator.forward(torch.randn(coding_dim).to(device)))\n"
   ],
   "metadata": {
    "collapsed": false,
    "pycharm": {
     "name": "#%%\n",
     "is_executing": false
    }
   }
  },
  {
   "cell_type": "markdown",
   "source": [
    "# Get the 2RDM matrix"
   ],
   "metadata": {
    "collapsed": false,
    "pycharm": {
     "name": "#%% md\n"
    }
   }
  },
  {
   "cell_type": "code",
   "execution_count": 33,
   "outputs": [],
   "source": [
    "def get_matrix_index(k,l):\n",
    "    '''\n",
    "    The 2-RDM tensor is stored as a matrix.from 2 coefficients we can get the 1 of the matrix\n",
    "    :param a: coef a\n",
    "    :param b: coef b\n",
    "    :return: index in the matrix\n",
    "    '''\n",
    "    # makre sure that the order is correct\n",
    "    s=12\n",
    "    [k,l]=np.sort([l,k])\n",
    "    return int(l - k + (2*s- k - 1) * k / 2-1)\n",
    "\n",
    "def double2single(m_2rdm):\n",
    "    '''\n",
    "    Get the 1-RDM from a 2-RDM\n",
    "    :param m_2rdm: matrix of the 2-RDM\n",
    "    :return: 1-RDM\n",
    "    '''\n",
    "    s=12\n",
    "    n=6\n",
    "    # initialize the matrix\n",
    "    rho = np.zeros([s,s])\n",
    "    # populate the matrix by looping over the coefficients a and b\n",
    "    for alpha in np.arange(s,dtype=int):\n",
    "        for beta in np.arange(s,dtype=int):\n",
    "            # elements to trace out\n",
    "            for nu in np.arange(s,dtype=int):\n",
    "                # 0 contribution if nu is alpha or beta\n",
    "                if nu != alpha and nu!=beta:\n",
    "                    # take care of the sign\n",
    "                    sgn = 1\n",
    "                    if nu < alpha:\n",
    "                        sgn*=-1\n",
    "                    if nu < beta:\n",
    "                        sgn*=-1\n",
    "                    rho[alpha,beta]+=sgn*m_2rdm[get_matrix_index(min(alpha,nu),max(alpha,nu)),get_matrix_index(min(beta,nu),max(beta,nu))]\n",
    "\n",
    "    return rho*2/(n-1)\n",
    "\n",
    "def get_2rdm(p_gan):\n",
    "    '''\n",
    "    Use the generator to get a 2-RDM from the parameters\n",
    "    :param p_gan: parameters in the coding space\n",
    "    :return: 2rdm\n",
    "    '''\n",
    "    # get the coefficients of the matrix L\n",
    "    s=12\n",
    "    n=6\n",
    "    p_gan_tensor= torch.from_numpy(p_gan).float()\n",
    "    p_gan_tensor_cuda = p_gan_tensor.to(device)    \n",
    "    with torch.no_grad():\n",
    "        L=generator.forward(p_gan_tensor_cuda).squeeze()\n",
    "    # Rebuild L cholevski\n",
    "    dim = int(s*(s-1)/2)\n",
    "    L_chol = np.zeros([dim,dim])\n",
    "    c = 0\n",
    "    for j in np.arange(dim):\n",
    "        for i in np.arange(dim):\n",
    "            if j >= i:\n",
    "                L_chol[i,j] = L[c]\n",
    "                c +=1\n",
    "    rho = np.matmul(L_chol.T,L_chol)\n",
    "    rho_1 = double2single(rho)\n",
    "    rho*=n/np.trace(rho_1)\n",
    "    return rho\n"
   ],
   "metadata": {
    "collapsed": false,
    "pycharm": {
     "name": "#%%\n",
     "is_executing": false
    }
   }
  },
  {
   "cell_type": "code",
   "execution_count": 34,
   "outputs": [
    {
     "data": {
      "text/plain": "<Figure size 432x288 with 1 Axes>",
      "image/png": "[encoded data removed]"
     },
     "metadata": {},
     "output_type": "display_data"
    },
    {
     "name": "stdout",
     "text": [
      "0.0\n"
     ],
     "output_type": "stream"
    }
   ],
   "source": [
    "p_gan = np.random.normal(0,1,[1,coding_dim])\n",
    "rdm2=get_2rdm(p_gan)\n",
    "plt.imshow(rdm2)\n",
    "plt.show()\n",
    "print(np.max(np.abs(rdm2-rdm2.T)))\n",
    "\n",
    "\n",
    "def get_rho_from_matrix(rho,i,j,k,l):\n",
    "    if (i== j or k==l):\n",
    "        rho_ijkl=0\n",
    "    else:\n",
    "        signe=1\n",
    "        if(i>j):\n",
    "            signe=signe*-1\n",
    "        if(k>l):\n",
    "            signe=signe*-1\n",
    "        x=get_matrix_index(min(i,j),max(i,j))\n",
    "        y=get_matrix_index(min(k,l),max(k,l))\n",
    "        rho_ijkl=signe*rho[x,y]\n",
    "    return rho_ijkl\n",
    "\n",
    "\n",
    "def get_rho_energy(rho,u):\n",
    "    t=1\n",
    "    rho1=double2single(rho)\n",
    "    Ecin=0\n",
    "    list_bin = [[0,1],[1,3],[3,5],[5,4],[4,2],[2,0]]\n",
    "    for bin in list_bin:\n",
    "        i = bin[0]\n",
    "        j= bin[1]\n",
    "        Ecin = Ecin -t* (rho1[i,j]+rho1[j,i]+rho1[i+6,j+6]+rho1[ j+6,i+6])\n",
    "    Epot=0\n",
    "    for i in range(6):\n",
    "        Epot = Epot + 2*u * get_rho_from_matrix(rho,i,i+6,i,i+6)\n",
    "    \n",
    "    return Ecin+Epot\n",
    "\n",
    "def e_var(p_gan,u):\n",
    "    rdm2=get_2rdm(p_gan)\n",
    "    return get_rho_energy(rdm2,u)"
   ],
   "metadata": {
    "collapsed": false,
    "pycharm": {
     "name": "#%%\n",
     "is_executing": false
    }
   }
  },
  {
   "cell_type": "code",
   "execution_count": 35,
   "outputs": [
    {
     "name": "stdout",
     "text": [
      "[0.5388759  0.11963957 0.48187991 0.53500008 0.18062144 0.1346506\n 0.49954268 0.29707966 0.22258251 0.83171625 0.02408936 0.52038044\n 0.56192191 0.63799524 0.39880532 0.02054816 0.93409843 0.20439256\n 0.31086447 0.71031198 0.63479215 0.83123334 0.60925349 0.21536205\n 0.85735583 0.16934897 0.76804409 0.07378736 0.26324319 0.1559328\n 0.02336419 0.93073565 0.74257044 0.36265877 0.78956542 0.48867721\n 0.23937531 0.05946794 0.61997439 0.10586261 0.92819687 0.99773015\n 0.11871052 0.63248003 0.64888505 0.94968691 0.5858895  0.67688362\n 0.26837068 0.79812612]\ntensor([0.5389, 0.1196, 0.4819, 0.5350, 0.1806, 0.1347, 0.4995, 0.2971, 0.2226,\n        0.8317, 0.0241, 0.5204, 0.5619, 0.6380, 0.3988, 0.0205, 0.9341, 0.2044,\n        0.3109, 0.7103, 0.6348, 0.8312, 0.6093, 0.2154, 0.8574, 0.1693, 0.7680,\n        0.0738, 0.2632, 0.1559, 0.0234, 0.9307, 0.7426, 0.3627, 0.7896, 0.4887,\n        0.2394, 0.0595, 0.6200, 0.1059, 0.9282, 0.9977, 0.1187, 0.6325, 0.6489,\n        0.9497, 0.5859, 0.6769, 0.2684, 0.7981], device='cuda:0')\ntensor([ 0.3657, -0.0449,  0.2596,  ..., -0.0194, -0.0285,  0.2889], device='cuda:0')\n"
     ],
     "output_type": "stream"
    }
   ],
   "source": [
    "p_gan = np.random.uniform(0,1,coding_dim)\n",
    "print(p_gan)\n",
    "p_gan_tensor= torch.from_numpy(p_gan).float()\n",
    "p_gan_tensor_cuda = p_gan_tensor.to(device)    \n",
    "print(p_gan_tensor_cuda)\n",
    "with torch.no_grad():\n",
    "    L=generator.forward(p_gan_tensor_cuda).squeeze()\n",
    "print(L)\n",
    "\n"
   ],
   "metadata": {
    "collapsed": false,
    "pycharm": {
     "name": "#%%\n",
     "is_executing": false
    }
   }
  },
  {
   "cell_type": "code",
   "execution_count": 84,
   "outputs": [
    {
     "name": "stdout",
     "text": [
      "tensor([-49.2130, -48.1160,  48.5478,  ..., -48.1149,  46.1934,  45.8067],\n       device='cuda:0')\n"
     ],
     "output_type": "stream"
    }
   ],
   "source": [
    "\n",
    "import torch\n",
    "from torch.distributions import uniform\n",
    "\n",
    "distribution = uniform.Uniform(torch.Tensor([0.0]),torch.Tensor([1.0]))\n",
    "a=distribution.sample(torch.Size([coding_dim])).squeeze().to(device)\n",
    "\n",
    "with torch.no_grad():\n",
    "    print(generator.forward(a))\n"
   ],
   "metadata": {
    "collapsed": false,
    "pycharm": {
     "name": "#%%\n",
     "is_executing": false
    }
   }
  },
  {
   "cell_type": "code",
   "execution_count": 85,
   "outputs": [
    {
     "name": "stdout",
     "text": [
      "[0.48469242 0.32546401 0.50629505 0.32698072 0.61433379 0.31294635\n 0.59909076 0.90868673 0.33268694 0.12083656 0.34338021 0.41882256\n 0.76299904 0.09655787 0.07372198 0.30781433 0.14745928 0.28608014\n 0.47298228 0.11403195 0.84717231 0.08951951 0.95467401 0.58106465\n 0.63340775 0.22651927 0.62050944 0.85976227 0.57426342 0.42205103\n 0.61687136 0.24991493 0.35507529 0.39907674 0.73157124 0.4113314\n 0.78750849 0.91100334 0.78349187 0.81602172 0.78779106 0.42615999\n 0.8269341  0.89930089 0.89365207 0.93619455 0.84977085 0.49104914\n 0.47381789 0.058044  ]\nenergy before optimisation\n-0.014963142426209532\n",
      "energy after\n      fun: -0.014963174857810818\n hess_inv: <50x50 LbfgsInvHessProduct with dtype=float64>\n      jac: array([ 1.69421745e-05,  1.77646129e-05,  2.12608208e-05, -1.27123824e-05,\n        1.28741831e-05, -3.95151087e-06, -1.41426807e-05,  2.05096410e-05,\n       -3.71139178e-05,  1.18876315e-05,  3.10286922e-05, -3.01523266e-05,\n       -1.60768220e-05,  3.96893613e-06,  2.90689799e-06, -2.08476148e-05,\n        5.11345889e-07, -1.02685437e-05,  2.56720611e-05,  2.68848300e-05,\n        8.47353336e-06,  6.30214926e-06,  5.55594955e-06, -6.37996663e-05,\n        3.11053920e-05,  1.19734299e-06,  2.17305245e-05, -2.62169182e-06,\n       -1.55893373e-05,  7.11889325e-06, -1.64871641e-05, -1.87612212e-05,\n       -1.80671935e-06,  2.68767445e-05,  3.35909000e-06, -6.14690185e-06,\n       -2.65172962e-05,  1.03497532e-05,  1.45496911e-05,  1.49683838e-05,\n        2.68754051e-05, -3.09399107e-05,  1.19997483e-05,  1.98022190e-05,\n       -1.82755283e-05,  9.63228722e-06, -4.34478370e-05, -5.11055795e-06,\n       -5.37552015e-06, -7.28207903e-07])\n  message: b'CONVERGENCE: REL_REDUCTION_OF_F_<=_FACTR*EPSMCH'\n     nfev: 102\n      nit: 1\n   status: 0\n  success: True\n        x: array([0.48467547, 0.32544574, 0.50627639, 0.32699534, 0.61432182,\n       0.31295042, 0.59910616, 0.90866664, 0.33272417, 0.1208253 ,\n       0.34335009, 0.41885322, 0.76301672, 0.09655842, 0.07372112,\n       0.3078363 , 0.1474583 , 0.28609406, 0.4729574 , 0.11400391,\n       0.84716657, 0.08951124, 0.95466836, 0.58112984, 0.63337506,\n       0.22651972, 0.62048875, 0.85976857, 0.57428297, 0.42204326,\n       0.61688891, 0.24993396, 0.35507888, 0.3990495 , 0.73156941,\n       0.41133958, 0.78753668, 0.91099229, 0.78347978, 0.81600959,\n       0.78776676, 0.42619313, 0.82692319, 0.89928319, 0.89367053,\n       0.93618622, 0.84981504, 0.49105555, 0.47382363, 0.05804534])\n"
     ],
     "output_type": "stream"
    },
    {
     "name": "stderr",
     "text": [
      "/home/romain/.conda/envs/DRL/lib/python3.6/site-packages/ipykernel_launcher.py:10: OptimizeWarning: Unknown solver options: pgtol\n  # Remove the CWD from sys.path while we load stuff.\n"
     ],
     "output_type": "stream"
    }
   ],
   "source": [
    "u=0\n",
    "p_gan = np.random.uniform(0,1,coding_dim)\n",
    "print(p_gan)\n",
    "\n",
    "print(\"energy before optimisation\")\n",
    "print(e_var(p_gan,u))\n",
    "bounds = Bounds(np.zeros([len(p_gan)]),np.ones([len(p_gan)])) # the parameters are between 0 and 1 by definition\n",
    "f = lambda p_gan : e_var(p_gan,u)\n",
    "# we save the result\n",
    "result = scipy.optimize.minimize(f,p_gan,bounds=bounds,options={\"maxiter\":1000,\"eps\":1/75.0,\"gtol\":0,\"ftol\":0.01,\"pgtol\":0})\n",
    "#result = scipy.optimize.minimize(f,p_gan,options={\"maxiter\":1000,\"eps\":1/50.0,\"gtol\":0,\"ftol\":0})\n",
    "print(\"energy after\")\n",
    "print(result)\n"
   ],
   "metadata": {
    "collapsed": false,
    "pycharm": {
     "name": "#%% Optimisation process\n",
     "is_executing": false
    }
   }
  },
  {
   "cell_type": "markdown",
   "source": [
    "# get the Hamiltonian"
   ],
   "metadata": {
    "collapsed": false
   }
  },
  {
   "cell_type": "code",
   "execution_count": 115,
   "outputs": [
    {
     "name": "stdout",
     "text": [
      "6\n[[0 1 2 0]\n [3 0 0 4]\n [0 5 6 0]\n [0 0 0 0]]\n"
     ],
     "output_type": "stream"
    }
   ],
   "source": [
    "U=1\n",
    "pe = PE(4, 2, 0.5,[0,0],U)\n",
    "print(pe.nb_electrons)\n",
    "print(pe.lattice)"
   ],
   "metadata": {
    "collapsed": false,
    "pycharm": {
     "name": "#%%\n",
     "is_executing": false
    }
   }
  },
  {
   "cell_type": "code",
   "execution_count": 82,
   "outputs": [
    {
     "name": "stdout",
     "text": [
      "[[ 0.  0.  0. ...  0.  0.  0.]\n [ 0.  1. -1. ...  0.  0.  0.]\n [ 0. -1.  1. ...  0.  0.  0.]\n ...\n [ 0.  0.  0. ...  1. -1.  0.]\n [ 0.  0.  0. ... -1.  1.  0.]\n [ 0.  0.  0. ...  0.  0.  0.]]\n"
     ],
     "output_type": "stream"
    }
   ],
   "source": [
    "H=pe.get_H()\n",
    "print(H)"
   ],
   "metadata": {
    "collapsed": false,
    "pycharm": {
     "name": "#%%\n",
     "is_executing": false
    }
   }
  },
  {
   "cell_type": "code",
   "execution_count": 44,
   "outputs": [],
   "source": [
    "\n",
    "v,w = scipy.linalg.eigh(H)"
   ],
   "metadata": {
    "collapsed": false,
    "pycharm": {
     "name": "#%%\n",
     "is_executing": false
    }
   }
  },
  {
   "cell_type": "code",
   "execution_count": 46,
   "outputs": [
    {
     "name": "stdout",
     "text": [
      "-6.601158293375114\n"
     ],
     "output_type": "stream"
    }
   ],
   "source": [
    "psi = w[:,0]\n",
    "a=pd.DataFrame(psi)\n",
    "a.to_csv(\"gs_1.csv\",index=False,header=False)\n",
    "print(v[0])"
   ],
   "metadata": {
    "collapsed": false,
    "pycharm": {
     "name": "#%%\n",
     "is_executing": false
    }
   }
  },
  {
   "cell_type": "code",
   "execution_count": 47,
   "outputs": [
    {
     "name": "stdout",
     "text": [
      "(66, 66)\n"
     ],
     "output_type": "stream"
    }
   ],
   "source": [
    "r = pd.read_csv(\"r1_1.csv\",header=None)\n",
    "print(np.shape(r.values))\n"
   ],
   "metadata": {
    "collapsed": false,
    "pycharm": {
     "name": "#%%\n",
     "is_executing": false
    }
   }
  },
  {
   "cell_type": "code",
   "execution_count": 51,
   "outputs": [
    {
     "data": {
      "text/plain": "-6.601080000000001"
     },
     "metadata": {},
     "output_type": "execute_result",
     "execution_count": 51
    }
   ],
   "source": [
    "def get_rho_cin(rho):\n",
    "    t=1\n",
    "    Ecin=0\n",
    "    list_bin = [[0,1],[1,3],[3,5],[5,4],[4,2],[2,0]]\n",
    "    for bin in list_bin:\n",
    "        i = bin[0]\n",
    "        j= bin[1]\n",
    "        Ecin = Ecin -t* (rho[i,j]+rho[j,i]+rho[i+6,j+6]+rho[ j+6,i+6])\n",
    "\n",
    "    return Ecin\n",
    "get_rho_energy(r.values,1)"
   ],
   "metadata": {
    "collapsed": false,
    "pycharm": {
     "name": "#%%\n",
     "is_executing": false
    }
   }
  },
  {
   "cell_type": "code",
   "execution_count": null,
   "outputs": [],
   "source": [],
   "metadata": {
    "collapsed": false,
    "pycharm": {
     "name": "#%%\n"
    }
   }
  }
 ],
 "metadata": {
  "language_info": {
   "codemirror_mode": {
    "name": "ipython",
    "version": 2
   },
   "file_extension": ".py",
   "mimetype": "text/x-python",
   "name": "python",
   "nbconvert_exporter": "python",
   "pygments_lexer": "ipython2",
   "version": "2.7.6"
  },
  "kernelspec": {
   "name": "python3",
   "language": "python",
   "display_name": "Python 3"
  },
  "pycharm": {
   "stem_cell": {
    "cell_type": "raw",
    "source": [],
    "metadata": {
     "collapsed": false
    }
   }
  }
 },
 "nbformat": 4,
 "nbformat_minor": 0
}