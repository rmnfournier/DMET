{
 "cells": [
  {
   "cell_type": "code",
   "execution_count": 1,
   "metadata": {
    "pycharm": {
     "is_executing": false,
     "name": "#%%\n"
    }
   },
   "outputs": [
    {
     "name": "stdout",
     "text": [
      "/home/romain/Documents/EPFL/C3MP/DRLDMET/DensityMatrix\n"
     ],
     "output_type": "stream"
    },
    {
     "name": "stderr",
     "text": [
      "/home/romain/.conda/envs/DRL/lib/python3.6/importlib/_bootstrap.py:219: RuntimeWarning: numpy.dtype size changed, may indicate binary incompatibility. Expected 96, got 88\n  return f(*args, **kwds)\n"
     ],
     "output_type": "stream"
    }
   ],
   "source": [
    "from RDM_DMET import RDM_DMET\n",
    "import numpy as np\n",
    "from matplotlib import pyplot as plt\n",
    "import seaborn as sbn\n",
    "\n"
   ]
  },
  {
   "cell_type": "markdown",
   "source": [
    "# Testing the methods\n",
    "## Constructor\n",
    " "
   ],
   "metadata": {
    "collapsed": false
   }
  },
  {
   "cell_type": "code",
   "execution_count": 3,
   "outputs": [],
   "source": [
    "dm_solver = RDM_DMET([2,2],2,1,0,[[1],[2]],2,\"generator_weights_2_5000.pth\")\n",
    "\n"
   ],
   "metadata": {
    "collapsed": false,
    "pycharm": {
     "name": "#%%\n",
     "is_executing": false
    }
   }
  },
  {
   "cell_type": "markdown",
   "source": [
    "## Mean field solution"
   ],
   "metadata": {
    "collapsed": false,
    "pycharm": {
     "name": "#%% md\n"
    }
   }
  },
  {
   "cell_type": "code",
   "execution_count": 3,
   "outputs": [
    {
     "data": {
      "text/plain": "<Figure size 432x288 with 2 Axes>",
      "image/png": "[encoded data removed]"
     },
     "metadata": {},
     "output_type": "display_data"
    }
   ],
   "source": [
    "C = dm_solver.get_mean_field_orbitals(dm_solver.potential)\n",
    "rho_mf = dm_solver.get_mf_density(dm_solver.potential)\n",
    "sbn.heatmap(rho_mf,annot=True)\n",
    "plt.show()"
   ],
   "metadata": {
    "collapsed": false,
    "pycharm": {
     "name": "#%% \n",
     "is_executing": false
    }
   }
  },
  {
   "cell_type": "markdown",
   "source": [
    "## Test if the index are correct"
   ],
   "metadata": {
    "collapsed": false,
    "pycharm": {
     "name": "#%% md\n"
    }
   }
  },
  {
   "cell_type": "code",
   "execution_count": 13,
   "outputs": [
    {
     "name": "stdout",
     "text": [
      "0\n1\n2\n3\n4\n5\n"
     ],
     "output_type": "stream"
    }
   ],
   "source": [
    "for i in np.arange(4):\n",
    "    for j in np.arange(i+1,4):\n",
    "        print(dm_solver.get_matrix_index(i,j))\n"
   ],
   "metadata": {
    "collapsed": false,
    "pycharm": {
     "name": "#%%\n",
     "is_executing": false
    }
   }
  },
  {
   "cell_type": "markdown",
   "source": [
    "## Test if rho 1 is correct"
   ],
   "metadata": {
    "collapsed": false,
    "pycharm": {
     "name": "#%% md\n"
    }
   }
  },
  {
   "cell_type": "code",
   "execution_count": 7,
   "outputs": [
    {
     "name": "stdout",
     "text": [
      "[[ 0.125  0.     0.125 -0.125  0.     0.125]\n [ 0.     0.     0.     0.     0.     0.   ]\n [ 0.125  0.     0.125 -0.125  0.     0.125]\n [-0.125  0.    -0.125  0.125  0.    -0.125]\n [ 0.     0.     0.     0.     0.     0.   ]\n [ 0.125  0.     0.125 -0.125  0.     0.125]]\n[[0.5 0.  0.5 0. ]\n [0.  0.5 0.  0.5]\n [0.5 0.  0.5 0. ]\n [0.  0.5 0.  0.5]]\n"
     ],
     "output_type": "stream"
    }
   ],
   "source": [
    "#rho2=np.asarray([[0.0947     ,    0 ,   0.1213  , -0.1213    ,     0 ,   0.0947],\n",
    " #        [0   , 0.0000    ,     0       ,  0   ,      0     ,    0],\n",
    " #  [ 0.1213   ,      0   , 0.1553  , -0.1553  ,       0 ,   0.1213],\n",
    " #  [-0.1213    ,     0  , -0.1553 ,   0.1553  ,       0,   -0.1213],\n",
    " #   [     0  ,       0      ,   0  ,       0 ,   0.0000  ,       0],\n",
    "#    [0.0947    ,     0   , 0.1213 ,  -0.1213   ,      0 ,   0.0947]])\n",
    "rho2 = 0.125*np.asarray([[1,0,1,-1,0,1],[0,0,0,0,0,0],[1,0,1,-1,0,1],[-1,0,-1,1,0,-1],[0,0,0,0,0,0],[1,0,1,-1,0,1]])\n",
    "print(rho2)\n",
    "print(dm_solver.double2single(rho2))\n",
    "rho1=dm_solver.double2single(rho2)"
   ],
   "metadata": {
    "collapsed": false,
    "pycharm": {
     "name": "#%%\n",
     "is_executing": false
    }
   }
  },
  {
   "cell_type": "markdown",
   "source": [
    "## Test if energy is correct"
   ],
   "metadata": {
    "collapsed": false
   }
  },
  {
   "cell_type": "code",
   "execution_count": 9,
   "outputs": [
    {
     "name": "stdout",
     "text": [
      "[[1.+0.j 0.+0.j 0.+0.j 0.+0.j]\n [0.+0.j 0.+0.j 1.+0.j 0.+0.j]\n [0.+0.j 1.+0.j 0.+0.j 0.+0.j]\n [0.+0.j 0.+0.j 0.-0.j 1.+0.j]]\n(-2+0j)\n0j\n(-2+0j)\n"
     ],
     "output_type": "stream"
    }
   ],
   "source": [
    "B=dm_solver.get_schmidt_orbitals(dm_solver.potential,[1])\n",
    "dm_solver = RDM_DMET([2,2],2,1,0,[[1],[2]],2,\"generator_weights_2_5000.pth\")\n",
    "\n",
    "print(B)\n",
    "print(dm_solver.H1(rho1,B))\n",
    "print(dm_solver.H2(rho2,B))\n",
    "print(dm_solver.H1(rho1,B)+dm_solver.H2(rho2,B))"
   ],
   "metadata": {
    "collapsed": false,
    "pycharm": {
     "name": "#%%\n",
     "is_executing": false
    }
   }
  },
  {
   "cell_type": "markdown",
   "source": [
    "## Density optimize_2rdm"
   ],
   "metadata": {
    "collapsed": false,
    "pycharm": {
     "name": "#%% md\n",
     "is_executing": true
    }
   }
  },
  {
   "cell_type": "code",
   "execution_count": 24,
   "outputs": [
    {
     "name": "stdout",
     "text": [
      "[-5.688456555331754, -5.685100524604609]\n"
     ],
     "output_type": "stream"
    },
    {
     "data": {
      "text/plain": "<Figure size 432x288 with 2 Axes>",
      "image/png": "[encoded data removed]"
     },
     "metadata": {},
     "output_type": "display_data"
    }
   ],
   "source": [
    "tmp_en =dm_solver.optimize_2rdm()\n",
    "sbn.heatmap(np.abs(dm_solver.double2single(dm_solver.get_2rdm(dm_solver.p_gan_list[0]))),annot=True,cmap=\"Blues\")\n",
    "print(tmp_en)"
   ],
   "metadata": {
    "collapsed": false,
    "pycharm": {
     "name": "#%% \n",
     "is_executing": false
    }
   }
  },
  {
   "cell_type": "markdown",
   "source": [
    "## Check the continuity of E var"
   ],
   "metadata": {
    "collapsed": false,
    "pycharm": {
     "name": "#%% md\n",
     "is_executing": false
    }
   }
  },
  {
   "cell_type": "code",
   "execution_count": 16,
   "outputs": [
    {
     "name": "stdout",
     "text": [
      "[0.         0.         1.         0.3559534  0.         0.\n 1.         0.         0.         0.04122421]\n"
     ],
     "output_type": "stream"
    },
    {
     "data": {
      "text/plain": "<Figure size 432x288 with 9 Axes>",
      "image/png": "[encoded data removed]"
     },
     "metadata": {},
     "output_type": "display_data"
    }
   ],
   "source": [
    "print(dm_solver.p_gan_list[0])\n",
    "\n",
    "for i in np.arange(9):\n",
    "    p_gan = dm_solver.p_gan_list[0].copy()\n",
    "    p_gan[i]=0\n",
    "    n_sim = 50\n",
    "    Evar = np.zeros([n_sim])\n",
    "    for runner_u,u in enumerate(np.linspace(0,1,n_sim)):\n",
    "        p_gan[i]=u\n",
    "        Evar[runner_u]=dm_solver.e_var(p_gan,dm_solver.get_schmidt_orbitals(dm_solver.potential,[0]))\n",
    "    plt.subplot(3,3,i+1)\n",
    "    plt.plot(np.linspace(0,1,n_sim),Evar)\n",
    "plt.show()"
   ],
   "metadata": {
    "collapsed": false,
    "pycharm": {
     "name": "#%%\n",
     "is_executing": false
    }
   }
  },
  {
   "cell_type": "code",
   "execution_count": 17,
   "outputs": [
    {
     "name": "stdout",
     "text": [
      "[0.         0.         1.         0.3559534  0.         0.\n 1.         0.         0.         0.04122421]\n"
     ],
     "output_type": "stream"
    }
   ],
   "source": [
    "print(dm_solver.p_gan_list[0])"
   ],
   "metadata": {
    "collapsed": false,
    "pycharm": {
     "name": "#%%\n",
     "is_executing": false
    }
   }
  },
  {
   "cell_type": "code",
   "execution_count": null,
   "outputs": [],
   "source": [],
   "metadata": {
    "collapsed": false,
    "pycharm": {
     "name": "#%%\n",
     "is_executing": true
    }
   }
  },
  {
   "cell_type": "code",
   "execution_count": null,
   "outputs": [],
   "source": [
    "\n"
   ],
   "metadata": {
    "collapsed": false,
    "pycharm": {
     "name": "#%%\n"
    }
   }
  }
 ],
 "metadata": {
  "kernelspec": {
   "display_name": "PyCharm (DensityMatrix)",
   "language": "python",
   "name": "pycharm-1cb7c663"
  },
  "language_info": {
   "codemirror_mode": {
    "name": "ipython",
    "version": 3
   },
   "file_extension": ".py",
   "mimetype": "text/x-python",
   "name": "python",
   "nbconvert_exporter": "python",
   "pygments_lexer": "ipython3",
   "version": "3.6.6"
  },
  "pycharm": {
   "stem_cell": {
    "cell_type": "raw",
    "source": [],
    "metadata": {
     "collapsed": false
    }
   }
  }
 },
 "nbformat": 4,
 "nbformat_minor": 1
}